{
 "cells": [
  {
   "cell_type": "code",
   "execution_count": 1,
   "id": "81670ce6",
   "metadata": {},
   "outputs": [],
   "source": [
    "import pandas as pd\n",
    "import numpy as np\n",
    "import matplotlib.pyplot as plt\n",
    "import seaborn as sns\n",
    "\n",
    "from sklearn.preprocessing import StandardScaler\n",
    "from sklearn.decomposition import PCA"
   ]
  },
  {
   "cell_type": "code",
   "execution_count": 2,
   "id": "8f7b1263",
   "metadata": {},
   "outputs": [
    {
     "data": {
      "text/html": [
       "<div>\n",
       "<style scoped>\n",
       "    .dataframe tbody tr th:only-of-type {\n",
       "        vertical-align: middle;\n",
       "    }\n",
       "\n",
       "    .dataframe tbody tr th {\n",
       "        vertical-align: top;\n",
       "    }\n",
       "\n",
       "    .dataframe thead th {\n",
       "        text-align: right;\n",
       "    }\n",
       "</style>\n",
       "<table border=\"1\" class=\"dataframe\">\n",
       "  <thead>\n",
       "    <tr style=\"text-align: right;\">\n",
       "      <th></th>\n",
       "      <th>Store</th>\n",
       "      <th>Date</th>\n",
       "      <th>IsHoliday</th>\n",
       "      <th>Temperature</th>\n",
       "      <th>gas_price</th>\n",
       "      <th>discount_promotional</th>\n",
       "      <th>discount_clearance</th>\n",
       "      <th>discount_damaged_good</th>\n",
       "      <th>discount_competitive</th>\n",
       "      <th>CPI</th>\n",
       "      <th>Unemployment</th>\n",
       "      <th>Weekly_Sales</th>\n",
       "      <th>Type</th>\n",
       "      <th>Size</th>\n",
       "      <th>Weekly_Sales.1</th>\n",
       "    </tr>\n",
       "  </thead>\n",
       "  <tbody>\n",
       "    <tr>\n",
       "      <th>0</th>\n",
       "      <td>1</td>\n",
       "      <td>2/5/2010</td>\n",
       "      <td>False</td>\n",
       "      <td>59.33</td>\n",
       "      <td>3.360</td>\n",
       "      <td>9667.50</td>\n",
       "      <td>268.29</td>\n",
       "      <td>0.60</td>\n",
       "      <td>8368.15</td>\n",
       "      <td>223.659114</td>\n",
       "      <td>6.833</td>\n",
       "      <td>1643690.90</td>\n",
       "      <td>A</td>\n",
       "      <td>151315</td>\n",
       "      <td>1643690.90</td>\n",
       "    </tr>\n",
       "    <tr>\n",
       "      <th>1</th>\n",
       "      <td>1</td>\n",
       "      <td>2/12/2010</td>\n",
       "      <td>True</td>\n",
       "      <td>51.65</td>\n",
       "      <td>3.409</td>\n",
       "      <td>8687.47</td>\n",
       "      <td>1594.87</td>\n",
       "      <td>2.20</td>\n",
       "      <td>2144.87</td>\n",
       "      <td>223.753643</td>\n",
       "      <td>6.833</td>\n",
       "      <td>1641957.44</td>\n",
       "      <td>A</td>\n",
       "      <td>151315</td>\n",
       "      <td>1641957.44</td>\n",
       "    </tr>\n",
       "    <tr>\n",
       "      <th>2</th>\n",
       "      <td>1</td>\n",
       "      <td>2/19/2010</td>\n",
       "      <td>False</td>\n",
       "      <td>52.39</td>\n",
       "      <td>3.510</td>\n",
       "      <td>2706.87</td>\n",
       "      <td>3128.74</td>\n",
       "      <td>1.88</td>\n",
       "      <td>2396.68</td>\n",
       "      <td>223.917015</td>\n",
       "      <td>6.833</td>\n",
       "      <td>1611968.17</td>\n",
       "      <td>A</td>\n",
       "      <td>151315</td>\n",
       "      <td>1611968.17</td>\n",
       "    </tr>\n",
       "    <tr>\n",
       "      <th>3</th>\n",
       "      <td>1</td>\n",
       "      <td>3/12/2010</td>\n",
       "      <td>False</td>\n",
       "      <td>60.71</td>\n",
       "      <td>3.669</td>\n",
       "      <td>8368.50</td>\n",
       "      <td>298.46</td>\n",
       "      <td>1.39</td>\n",
       "      <td>1340.29</td>\n",
       "      <td>224.562029</td>\n",
       "      <td>6.833</td>\n",
       "      <td>1439541.59</td>\n",
       "      <td>A</td>\n",
       "      <td>151315</td>\n",
       "      <td>1439541.59</td>\n",
       "    </tr>\n",
       "    <tr>\n",
       "      <th>4</th>\n",
       "      <td>1</td>\n",
       "      <td>3/19/2010</td>\n",
       "      <td>False</td>\n",
       "      <td>64.00</td>\n",
       "      <td>3.734</td>\n",
       "      <td>2588.06</td>\n",
       "      <td>80.89</td>\n",
       "      <td>3.20</td>\n",
       "      <td>909.76</td>\n",
       "      <td>224.716695</td>\n",
       "      <td>6.833</td>\n",
       "      <td>1472515.79</td>\n",
       "      <td>A</td>\n",
       "      <td>151315</td>\n",
       "      <td>1472515.79</td>\n",
       "    </tr>\n",
       "    <tr>\n",
       "      <th>...</th>\n",
       "      <td>...</td>\n",
       "      <td>...</td>\n",
       "      <td>...</td>\n",
       "      <td>...</td>\n",
       "      <td>...</td>\n",
       "      <td>...</td>\n",
       "      <td>...</td>\n",
       "      <td>...</td>\n",
       "      <td>...</td>\n",
       "      <td>...</td>\n",
       "      <td>...</td>\n",
       "      <td>...</td>\n",
       "      <td>...</td>\n",
       "      <td>...</td>\n",
       "      <td>...</td>\n",
       "    </tr>\n",
       "    <tr>\n",
       "      <th>384</th>\n",
       "      <td>10</td>\n",
       "      <td>8/17/2012</td>\n",
       "      <td>False</td>\n",
       "      <td>88.83</td>\n",
       "      <td>4.002</td>\n",
       "      <td>4407.90</td>\n",
       "      <td>0.00</td>\n",
       "      <td>7.20</td>\n",
       "      <td>3037.56</td>\n",
       "      <td>130.790968</td>\n",
       "      <td>7.170</td>\n",
       "      <td>1597868.05</td>\n",
       "      <td>B</td>\n",
       "      <td>126512</td>\n",
       "      <td>1827797.40</td>\n",
       "    </tr>\n",
       "    <tr>\n",
       "      <th>385</th>\n",
       "      <td>10</td>\n",
       "      <td>9/7/2012</td>\n",
       "      <td>True</td>\n",
       "      <td>83.07</td>\n",
       "      <td>4.124</td>\n",
       "      <td>11848.88</td>\n",
       "      <td>20.00</td>\n",
       "      <td>47.52</td>\n",
       "      <td>3530.47</td>\n",
       "      <td>130.932548</td>\n",
       "      <td>7.170</td>\n",
       "      <td>1661767.33</td>\n",
       "      <td>B</td>\n",
       "      <td>126512</td>\n",
       "      <td>1708283.28</td>\n",
       "    </tr>\n",
       "    <tr>\n",
       "      <th>386</th>\n",
       "      <td>10</td>\n",
       "      <td>9/21/2012</td>\n",
       "      <td>False</td>\n",
       "      <td>81.93</td>\n",
       "      <td>4.125</td>\n",
       "      <td>11273.56</td>\n",
       "      <td>245.91</td>\n",
       "      <td>27.00</td>\n",
       "      <td>2976.50</td>\n",
       "      <td>131.010333</td>\n",
       "      <td>7.170</td>\n",
       "      <td>1671857.57</td>\n",
       "      <td>B</td>\n",
       "      <td>126512</td>\n",
       "      <td>1671857.57</td>\n",
       "    </tr>\n",
       "    <tr>\n",
       "      <th>387</th>\n",
       "      <td>10</td>\n",
       "      <td>9/28/2012</td>\n",
       "      <td>False</td>\n",
       "      <td>82.52</td>\n",
       "      <td>3.966</td>\n",
       "      <td>6091.96</td>\n",
       "      <td>62.82</td>\n",
       "      <td>2.82</td>\n",
       "      <td>3350.88</td>\n",
       "      <td>131.043000</td>\n",
       "      <td>7.170</td>\n",
       "      <td>1437059.26</td>\n",
       "      <td>B</td>\n",
       "      <td>126512</td>\n",
       "      <td>1694862.41</td>\n",
       "    </tr>\n",
       "    <tr>\n",
       "      <th>388</th>\n",
       "      <td>10</td>\n",
       "      <td>10/26/2012</td>\n",
       "      <td>False</td>\n",
       "      <td>70.50</td>\n",
       "      <td>4.301</td>\n",
       "      <td>9657.93</td>\n",
       "      <td>63.30</td>\n",
       "      <td>100.00</td>\n",
       "      <td>1925.87</td>\n",
       "      <td>131.193097</td>\n",
       "      <td>6.943</td>\n",
       "      <td>1493659.74</td>\n",
       "      <td>B</td>\n",
       "      <td>126512</td>\n",
       "      <td>1744349.05</td>\n",
       "    </tr>\n",
       "  </tbody>\n",
       "</table>\n",
       "<p>389 rows × 15 columns</p>\n",
       "</div>"
      ],
      "text/plain": [
       "     Store        Date  IsHoliday  Temperature  gas_price  \\\n",
       "0        1    2/5/2010      False        59.33      3.360   \n",
       "1        1   2/12/2010       True        51.65      3.409   \n",
       "2        1   2/19/2010      False        52.39      3.510   \n",
       "3        1   3/12/2010      False        60.71      3.669   \n",
       "4        1   3/19/2010      False        64.00      3.734   \n",
       "..     ...         ...        ...          ...        ...   \n",
       "384     10   8/17/2012      False        88.83      4.002   \n",
       "385     10    9/7/2012       True        83.07      4.124   \n",
       "386     10   9/21/2012      False        81.93      4.125   \n",
       "387     10   9/28/2012      False        82.52      3.966   \n",
       "388     10  10/26/2012      False        70.50      4.301   \n",
       "\n",
       "     discount_promotional  discount_clearance  discount_damaged_good  \\\n",
       "0                 9667.50              268.29                   0.60   \n",
       "1                 8687.47             1594.87                   2.20   \n",
       "2                 2706.87             3128.74                   1.88   \n",
       "3                 8368.50              298.46                   1.39   \n",
       "4                 2588.06               80.89                   3.20   \n",
       "..                    ...                 ...                    ...   \n",
       "384               4407.90                0.00                   7.20   \n",
       "385              11848.88               20.00                  47.52   \n",
       "386              11273.56              245.91                  27.00   \n",
       "387               6091.96               62.82                   2.82   \n",
       "388               9657.93               63.30                 100.00   \n",
       "\n",
       "     discount_competitive         CPI  Unemployment  Weekly_Sales Type  \\\n",
       "0                 8368.15  223.659114         6.833    1643690.90    A   \n",
       "1                 2144.87  223.753643         6.833    1641957.44    A   \n",
       "2                 2396.68  223.917015         6.833    1611968.17    A   \n",
       "3                 1340.29  224.562029         6.833    1439541.59    A   \n",
       "4                  909.76  224.716695         6.833    1472515.79    A   \n",
       "..                    ...         ...           ...           ...  ...   \n",
       "384               3037.56  130.790968         7.170    1597868.05    B   \n",
       "385               3530.47  130.932548         7.170    1661767.33    B   \n",
       "386               2976.50  131.010333         7.170    1671857.57    B   \n",
       "387               3350.88  131.043000         7.170    1437059.26    B   \n",
       "388               1925.87  131.193097         6.943    1493659.74    B   \n",
       "\n",
       "       Size  Weekly_Sales.1  \n",
       "0    151315      1643690.90  \n",
       "1    151315      1641957.44  \n",
       "2    151315      1611968.17  \n",
       "3    151315      1439541.59  \n",
       "4    151315      1472515.79  \n",
       "..      ...             ...  \n",
       "384  126512      1827797.40  \n",
       "385  126512      1708283.28  \n",
       "386  126512      1671857.57  \n",
       "387  126512      1694862.41  \n",
       "388  126512      1744349.05  \n",
       "\n",
       "[389 rows x 15 columns]"
      ]
     },
     "execution_count": 2,
     "metadata": {},
     "output_type": "execute_result"
    }
   ],
   "source": [
    "data = pd.read_csv('stores_1_to_10.csv')\n",
    "data"
   ]
  },
  {
   "cell_type": "code",
   "execution_count": 3,
   "id": "50bcb2b5",
   "metadata": {},
   "outputs": [],
   "source": [
    "data.replace(['A','B','C'], [1,2,3], inplace=True)\n",
    "processed_data = data.drop(['Date', 'Weekly_Sales.1'], axis=1).copy()"
   ]
  },
  {
   "cell_type": "code",
   "execution_count": 4,
   "id": "3c932f76",
   "metadata": {},
   "outputs": [],
   "source": [
    "plt.style.use('ggplot')"
   ]
  },
  {
   "cell_type": "code",
   "execution_count": 5,
   "id": "8b1bf78a",
   "metadata": {},
   "outputs": [
    {
     "data": {
      "text/plain": [
       "(389, 13)"
      ]
     },
     "execution_count": 5,
     "metadata": {},
     "output_type": "execute_result"
    }
   ],
   "source": [
    "X = processed_data.values\n",
    "X.shape"
   ]
  },
  {
   "cell_type": "code",
   "execution_count": 6,
   "id": "6ea7c294",
   "metadata": {},
   "outputs": [],
   "source": [
    "scaler = StandardScaler()\n",
    "scaler.fit(X)\n",
    "X_scaled = scaler.transform(X)"
   ]
  },
  {
   "cell_type": "code",
   "execution_count": 7,
   "id": "a5b3a1e6",
   "metadata": {},
   "outputs": [],
   "source": [
    "pca_13 = PCA(n_components=13,random_state=2020)\n",
    "pca_13.fit(X_scaled)\n",
    "X_pca_13 = scaler.transform(X_scaled)"
   ]
  },
  {
   "cell_type": "code",
   "execution_count": 8,
   "id": "d8471b4a",
   "metadata": {},
   "outputs": [
    {
     "data": {
      "text/plain": [
       "array([21.00216575, 14.46348055, 13.80995986, 12.00729124,  9.66173888,\n",
       "        8.36234995,  6.65893597,  4.83902378,  3.54872857,  2.69893085,\n",
       "        1.28434821,  1.1848609 ,  0.47818549])"
      ]
     },
     "execution_count": 8,
     "metadata": {},
     "output_type": "execute_result"
    }
   ],
   "source": [
    "pca_13.explained_variance_ratio_ * 100"
   ]
  },
  {
   "cell_type": "code",
   "execution_count": 9,
   "id": "bce9e59c",
   "metadata": {},
   "outputs": [
    {
     "name": "stdout",
     "output_type": "stream",
     "text": [
      "Variance explained by all 13 principal components 100.00000000000004\n"
     ]
    }
   ],
   "source": [
    "print(\"Variance explained by all 13 principal components\", sum(pca_13.explained_variance_ratio_ * 100))"
   ]
  },
  {
   "cell_type": "code",
   "execution_count": 10,
   "id": "42c00ddf",
   "metadata": {},
   "outputs": [
    {
     "data": {
      "text/plain": [
       "array([ 21.00216575,  35.4656463 ,  49.27560615,  61.2828974 ,\n",
       "        70.94463628,  79.30698623,  85.96592219,  90.80494598,\n",
       "        94.35367454,  97.05260539,  98.3369536 ,  99.52181451,\n",
       "       100.        ])"
      ]
     },
     "execution_count": 10,
     "metadata": {},
     "output_type": "execute_result"
    }
   ],
   "source": [
    "np.cumsum(pca_13.explained_variance_ratio_ * 100)"
   ]
  },
  {
   "cell_type": "code",
   "execution_count": 11,
   "id": "7e4d87e6",
   "metadata": {},
   "outputs": [
    {
     "data": {
      "image/png": "[encoded data removed]",
      "text/plain": [
       "<Figure size 432x288 with 1 Axes>"
      ]
     },
     "metadata": {},
     "output_type": "display_data"
    }
   ],
   "source": [
    "plt.plot(np.cumsum(pca_13.explained_variance_ratio_))\n",
    "plt.xlabel('Number of components')\n",
    "plt.ylabel('Explained variance (%)')\n",
    "plt.savefig('elbow_plot.png', dpi=100)"
   ]
  },
  {
   "cell_type": "code",
   "execution_count": 12,
   "id": "5d7308c2",
   "metadata": {},
   "outputs": [
    {
     "name": "stdout",
     "output_type": "stream",
     "text": [
      "Variance explained by the first principal component =  21.002165754090107\n",
      "Variance explained by the first 2 principal components =  35.46564629947069\n",
      "Variance explained by the first 3 principal components =  49.275606154603125\n",
      "Variance explained by the first 9 principal components =  94.35367454372425\n"
     ]
    }
   ],
   "source": [
    "print(\"Variance explained by the first principal component = \", np.cumsum(pca_13.explained_variance_ratio_ * 100)[0])\n",
    "print(\"Variance explained by the first 2 principal components = \", np.cumsum(pca_13.explained_variance_ratio_ * 100)[1])\n",
    "print(\"Variance explained by the first 3 principal components = \", np.cumsum(pca_13.explained_variance_ratio_ * 100)[2])\n",
    "print(\"Variance explained by the first 9 principal components = \", np.cumsum(pca_13.explained_variance_ratio_ * 100)[8])"
   ]
  },
  {
   "cell_type": "code",
   "execution_count": 13,
   "id": "336e869a",
   "metadata": {},
   "outputs": [],
   "source": [
    "pca_2 = PCA(n_components=2,random_state=2020)\n",
    "pca_2.fit(X_scaled)\n",
    "X_pca_2 = scaler.transform(X_scaled)"
   ]
  },
  {
   "cell_type": "code",
   "execution_count": 16,
   "id": "bf7d96aa",
   "metadata": {},
   "outputs": [
    {
     "data": {
      "image/png": "[encoded data removed]",
      "text/plain": [
       "<Figure size 720x504 with 1 Axes>"
      ]
     },
     "metadata": {},
     "output_type": "display_data"
    }
   ],
   "source": [
    "plt.figure(figsize=(10,7))\n",
    "sns.scatterplot(x=X_pca_2[:, 0], y=X_pca_2[:,1],s=70,hue=data.Weekly_Sales)\n",
    "plt.title(\"2D Scatterplot\", pad=15)\n",
    "plt.xlabel('First PC')\n",
    "plt.ylabel('Second PC')\n",
    "plt.savefig('2d_scatterplot.png')"
   ]
  }
 ],
 "metadata": {
  "kernelspec": {
   "display_name": "Python 3 (ipykernel)",
   "language": "python",
   "name": "python3"
  },
  "language_info": {
   "codemirror_mode": {
    "name": "ipython",
    "version": 3
   },
   "file_extension": ".py",
   "mimetype": "text/x-python",
   "name": "python",
   "nbconvert_exporter": "python",
   "pygments_lexer": "ipython3",
   "version": "3.9.7"
  }
 },
 "nbformat": 4,
 "nbformat_minor": 5
}
